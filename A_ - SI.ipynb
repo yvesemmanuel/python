{
 "cells": [
  {
   "cell_type": "markdown",
   "id": "fe4c4308",
   "metadata": {},
   "source": [
    "### Given information"
   ]
  },
  {
   "cell_type": "code",
   "execution_count": 1,
   "id": "7c02bad4",
   "metadata": {},
   "outputs": [],
   "source": [
    "real_edges = [(\"E1\", \"E2\", 10), (\"E2\", \"E3\", 8.5), (\"E2\", \"E9\", 10), (\"E2\", \"E10\", 3.5),\n",
    "              (\"E3\", \"E4\", 6.3), (\"E3\", \"E9\", 9.4), (\"E3\", \"E13\", 18.7), (\"E4\", \"E5\", 13),\n",
    "              (\"E4\", \"E8\", 15.3), (\"E4\", \"E13\", 12.8), (\"E5\", \"E6\", 3), (\"E5\", \"E7\", 2.4),\n",
    "              (\"E5\", \"E8\", 30), (\"E8\", \"E9\", 9.6), (\"E8\", \"E12\", 6.4), (\"E9\", \"E11\", 12.2), (\"E13\", \"E14\", 5.1)]\n",
    "\n",
    "straight_edges = [('E1', 'E2', 10.0), ('E1', 'E3', 18.5), ('E1', 'E4', 24.8), ('E1', 'E5', 36.4),\n",
    "                  ('E1', 'E6', 38.8), ('E1', 'E7', 35.8), ('E1', 'E8', 25.4), ('E1', 'E9', 17.6),\n",
    "                  ('E1', 'E10', 9.1), ('E1', 'E11', 16.7), ('E1', 'E12', 27.3), ('E1', 'E13', 27.6),\n",
    "                  ('E1', 'E14', 29.8), ('E2', 'E3', 8.5), ('E2', 'E4', 14.8), ('E2', 'E5', 26.6),\n",
    "                  ('E2', 'E6', 29.1), ('E2', 'E7', 26.1), ('E2', 'E8', 17.3), ('E2', 'E9', 10.0),\n",
    "                  ('E2', 'E10', 3.5), ('E2', 'E11', 15.5), ('E2', 'E12', 20.9), ('E2', 'E13', 19.1),\n",
    "                  ('E2', 'E14', 21.8), ('E3', 'E4', 6.3), ('E3', 'E5', 18.2), ('E3', 'E6', 20.6),\n",
    "                  ('E3', 'E7', 17.6), ('E3', 'E8', 13.6), ('E3', 'E9', 9.4), ('E3', 'E10', 10.3),\n",
    "                  ('E3', 'E11', 19.5), ('E3', 'E12', 19.1), ('E3', 'E13', 12.1), ('E3', 'E14', 16.6),\n",
    "                  ('E4', 'E5', 12.0), ('E4', 'E6', 14.4), ('E4', 'E7', 11.5), ('E4', 'E8', 12.4),\n",
    "                  ('E4', 'E9', 12.6), ('E4', 'E10', 16.7), ('E4', 'E11', 23.6), ('E4', 'E12', 18.6),\n",
    "                  ('E4', 'E13', 10.6), ('E4', 'E14', 15.4), ('E5', 'E6', 3.0), ('E5', 'E7', 2.4),\n",
    "                  ('E5', 'E8', 19.4), ('E5', 'E9', 23.3), ('E5', 'E10', 28.2), ('E5', 'E11', 34.2),\n",
    "                  ('E5', 'E12', 24.8), ('E5', 'E13', 14.5), ('E5', 'E14', 17.9), ('E6', 'E7', 3.3),\n",
    "                  ('E6', 'E8', 22.3), ('E6', 'E9', 25.7), ('E6', 'E10', 30.3), ('E6', 'E11', 36.7),\n",
    "                  ('E6', 'E12', 27.6), ('E6', 'E13', 15.2), ('E6', 'E14', 18.2), ('E7', 'E8', 20.0),\n",
    "                  ('E7', 'E9', 23.0), ('E7', 'E10', 27.3), ('E7', 'E11', 34.2), ('E7', 'E12', 25.7),\n",
    "                  ('E7', 'E13', 12.4), ('E7', 'E14', 15.6), ('E8', 'E9', 8.2), ('E8', 'E10', 20.3),\n",
    "                  ('E8', 'E11', 16.1), ('E8', 'E12', 6.4), ('E8', 'E13', 22.7), ('E8', 'E14', 27.6),\n",
    "                  ('E9', 'E10', 13.5), ('E9', 'E11', 11.2), ('E9', 'E12', 10.9), ('E9', 'E13', 21.2),\n",
    "                  ('E9', 'E14', 26.6), ('E10', 'E11', 17.6), ('E10', 'E12', 24.2), ('E10', 'E13', 18.7),\n",
    "                  ('E10', 'E14', 21.2), ('E11', 'E12', 14.2), ('E11', 'E13', 31.5), ('E11', 'E14', 35.5),\n",
    "                  ('E12', 'E13', 28.8), ('E12', 'E14', 33.6), ('E13', 'E14', 5.1)]\n",
    "\n",
    "velocity = 30"
   ]
  },
  {
   "cell_type": "markdown",
   "id": "a0d4063c",
   "metadata": {},
   "source": [
    "### Defining data structure"
   ]
  },
  {
   "cell_type": "code",
   "execution_count": 2,
   "id": "3b73f6dc",
   "metadata": {},
   "outputs": [],
   "source": [
    "from collections import defaultdict\n",
    "\n",
    "class Graph:\n",
    "    def __init__(self, edges):\n",
    "        self._graph = defaultdict(dict)\n",
    "        for node1, node2, weight in edges:\n",
    "            self._graph[node1].setdefault(node2, weight)\n",
    "            self._graph[node2].setdefault(node1, weight)\n",
    "\n",
    "    def get_nodes(self):\n",
    "        return list(self._graph.keys())   \n",
    "            \n",
    "    def get_adjc(self, node):\n",
    "            return self._graph[node]\n",
    "        \n",
    "    def get_weight(self, node1, node2):\n",
    "        if node1 == node2:\n",
    "            return 0\n",
    "\n",
    "        return self._graph[node1].get(node2, float('inf'))\n",
    "\n",
    "    def __str__(self):\n",
    "        return '{}({})'.format(self.__class__.__name__, dict(self._graph))"
   ]
  },
  {
   "cell_type": "code",
   "execution_count": 3,
   "id": "eb5ef445",
   "metadata": {},
   "outputs": [],
   "source": [
    "real_distances = Graph(real_edges)\n",
    "straight_distances = Graph(straight_edges)"
   ]
  },
  {
   "cell_type": "code",
   "execution_count": 4,
   "id": "69510684",
   "metadata": {},
   "outputs": [
    {
     "name": "stdout",
     "output_type": "stream",
     "text": [
      "Graph({'E1': {'E2': 10}, 'E2': {'E1': 10, 'E3': 8.5, 'E9': 10, 'E10': 3.5}, 'E3': {'E2': 8.5, 'E4': 6.3, 'E9': 9.4, 'E13': 18.7}, 'E9': {'E2': 10, 'E3': 9.4, 'E8': 9.6, 'E11': 12.2}, 'E10': {'E2': 3.5}, 'E4': {'E3': 6.3, 'E5': 13, 'E8': 15.3, 'E13': 12.8}, 'E13': {'E3': 18.7, 'E4': 12.8, 'E14': 5.1}, 'E5': {'E4': 13, 'E6': 3, 'E7': 2.4, 'E8': 30}, 'E8': {'E4': 15.3, 'E5': 30, 'E9': 9.6, 'E12': 6.4}, 'E6': {'E5': 3}, 'E7': {'E5': 2.4}, 'E12': {'E8': 6.4}, 'E11': {'E9': 12.2}, 'E14': {'E13': 5.1}})\n"
     ]
    }
   ],
   "source": [
    "print(real_distances)"
   ]
  },
  {
   "cell_type": "markdown",
   "id": "35792a7f",
   "metadata": {},
   "source": [
    "### A* implementation"
   ]
  },
  {
   "cell_type": "code",
   "execution_count": 5,
   "id": "742bfff2",
   "metadata": {},
   "outputs": [],
   "source": [
    "def a_star(r_graph, s_graph, start, end):\n",
    "    barrier = [(start, 0 + s_graph.get_weight(start, end))] # initially we only can reach the starting node\n",
    "    path = [start]\n",
    "    cost = 0\n",
    "\n",
    "    while True:\n",
    "        curr = barrier.pop(0) # select\n",
    "        cost += r_graph.get_weight(path[len(path) - 1], curr[0]) # sum the cost to reach node 'curr' to the total cost\n",
    "\n",
    "        if curr[0] == end: return path + [end], cost # check\n",
    "\n",
    "        adjc = r_graph.get_adjc(curr[0]) # generate\n",
    "\n",
    "        if len(adjc) == 1 and len(barrier) != 0: # if not a promising node\n",
    "            cost -= r_graph.get_weight(path[len(path) - 1], curr[0]) # remove the cost to come to this node\n",
    "            continue # backtrack\n",
    "        else:\n",
    "            if curr[0] != start:\n",
    "                path.append(curr[0])\n",
    "\n",
    "        # insert\n",
    "        barrier.extend([(node, weight + s_graph.get_weight(node, end)) for node, weight in adjc.items() if node not in path])\n",
    "        barrier.sort(key=lambda x: x[1])\n",
    "        #print(barrier)"
   ]
  },
  {
   "cell_type": "markdown",
   "id": "0cbfb660",
   "metadata": {},
   "source": [
    "### Checking tranfering rails"
   ]
  },
  {
   "cell_type": "code",
   "execution_count": 6,
   "id": "bef0bf26",
   "metadata": {},
   "outputs": [],
   "source": [
    "def check_sublist(lst, sublst):\n",
    "    return all(element in lst for element in sublst)"
   ]
  },
  {
   "cell_type": "code",
   "execution_count": 7,
   "id": "c50b1411",
   "metadata": {},
   "outputs": [],
   "source": [
    "def transfering_rails(path):\n",
    "    violet_trail = [\"E1\", \"E2\", \"E3\", \"E4\", \"E5\", \"E6\"]\n",
    "    yellow_trail = [\"E10\", \"E2\", \"E9\", \"E8\", \"E5\", \"E7\"]\n",
    "    red_trail = [\"E11\", \"E9\", \"E3\", \"E13\"]\n",
    "    green_trail = [\"E12\", \"E8\", \"E4\", \"E13\", \"E14\"]\n",
    "\n",
    "    checking_path = [path[0], path[1]]\n",
    "    count = 0\n",
    "    for node in path[2:]:\n",
    "        checking_path.append(node)\n",
    "\n",
    "        if not (check_sublist(violet_trail, checking_path) or check_sublist(yellow_trail, checking_path) or check_sublist(red_trail, checking_path) or check_sublist(green_trail, checking_path)):\n",
    "            checking_path = checking_path[-2:]\n",
    "            count += 1\n",
    "    \n",
    "    return count"
   ]
  },
  {
   "cell_type": "markdown",
   "id": "6987ac20",
   "metadata": {},
   "source": [
    "### Find minimum path time...?"
   ]
  },
  {
   "cell_type": "code",
   "execution_count": 8,
   "id": "c0652692",
   "metadata": {},
   "outputs": [],
   "source": [
    "def find_minimum_path(r_graph, s_graph, start, end):\n",
    "    path, cost = a_star(r_graph, s_graph, start, end)\n",
    "    total_time = ((cost / velocity) * 60) + (transfering_rails(path) * 4)\n",
    "    \n",
    "    return path, cost, (transfering_rails(path) * 4), total_time"
   ]
  },
  {
   "cell_type": "code",
   "execution_count": 9,
   "id": "04e6ebc4",
   "metadata": {},
   "outputs": [
    {
     "name": "stdout",
     "output_type": "stream",
     "text": [
      "\n",
      "Path = ['E14', 'E13', 'E3', 'E2', 'E1']\n",
      "Path cost = 42.3 kilometers\n",
      "Transfer time = 8 minutes\n",
      "\n",
      "Total time to reach the end = 1h:32m (approximately)\n"
     ]
    }
   ],
   "source": [
    "start = \"E14\"\n",
    "end = \"E1\"\n",
    "\n",
    "path, cost, transfering_rails_time, total_time = find_minimum_path(real_distances, straight_distances, start, end)\n",
    "\n",
    "print(f\"\\nPath = {path}\\nPath cost = {cost} kilometers\\nTransfer time = {transfering_rails_time} minutes\\n\")\n",
    "print(f\"Total time to reach the end = {int(total_time // 60)}h:{int(total_time % 60)}m (approximately)\")"
   ]
  },
  {
   "cell_type": "code",
   "execution_count": 10,
   "id": "3b095676",
   "metadata": {},
   "outputs": [
    {
     "name": "stdout",
     "output_type": "stream",
     "text": [
      "\n",
      "Path = ['E1', 'E2', 'E3', 'E4', 'E13', 'E14']\n",
      "Path cost = 42.7 kilometers\n",
      "Transfer time = 4 minutes\n",
      "\n",
      "Total time to reach the end = 1h:29m (approximately)\n"
     ]
    }
   ],
   "source": [
    "start = \"E1\"\n",
    "end = \"E14\"\n",
    "\n",
    "path, cost, transfering_rails_time, total_time = find_minimum_path(real_distances, straight_distances, start, end)\n",
    "\n",
    "print(f\"\\nPath = {path}\\nPath cost = {cost} kilometers\\nTransfer time = {transfering_rails_time} minutes\\n\")\n",
    "print(f\"Total time to reach the end = {int(total_time // 60)}h:{int(total_time % 60)}m (approximately)\")"
   ]
  },
  {
   "cell_type": "markdown",
   "id": "664a3a53",
   "metadata": {},
   "source": [
    "### Find minimum path time: checking transfer time"
   ]
  },
  {
   "cell_type": "code",
   "execution_count": 11,
   "id": "76368cd2",
   "metadata": {},
   "outputs": [],
   "source": [
    "def find_minimum_path(r_graph, s_graph, start, end):\n",
    "    path0, cost0 = a_star(r_graph, s_graph, start, end)\n",
    "    print()\n",
    "    path1, cost1 = a_star(r_graph, s_graph, end, start)\n",
    "    \n",
    "    total_time0 = ((cost0 / velocity) * 60) + (transfering_rails(path0) * 4)\n",
    "    total_time1 = ((cost1 / velocity) * 60) + (transfering_rails(path1) * 4)\n",
    "    \n",
    "    if total_time0 < total_time1:\n",
    "        return path0, cost0, (transfering_rails(path0) * 4), total_time0\n",
    "    else:\n",
    "        path1.reverse()\n",
    "        return path1, cost1, (transfering_rails(path1) * 4), total_time1"
   ]
  },
  {
   "cell_type": "code",
   "execution_count": 12,
   "id": "959b9dd4",
   "metadata": {},
   "outputs": [
    {
     "name": "stdout",
     "output_type": "stream",
     "text": [
      "\n",
      "\n",
      "Path = ['E11', 'E9', 'E3', 'E4', 'E13', 'E14']\n",
      "Path cost = 45.8 kilometers\n",
      "Transfer time = 8 minutes\n",
      "\n",
      "Total time to reach the end = 1h:39m (approximately)\n"
     ]
    }
   ],
   "source": [
    "start = \"E11\"\n",
    "end = \"E14\"\n",
    "\n",
    "path, cost, transfering_rails_time, total_time = find_minimum_path(real_distances, straight_distances, start, end)\n",
    "\n",
    "print(f\"\\nPath = {path}\\nPath cost = {cost} kilometers\\nTransfer time = {transfering_rails_time} minutes\\n\")\n",
    "print(f\"Total time to reach the end = {int(total_time // 60)}h:{int(total_time % 60)}m (approximately)\")"
   ]
  },
  {
   "cell_type": "markdown",
   "id": "8e563052",
   "metadata": {},
   "source": [
    "### Let's check the minimum time cost to all nodes!"
   ]
  },
  {
   "cell_type": "code",
   "execution_count": 13,
   "id": "664b5c6f",
   "metadata": {},
   "outputs": [
    {
     "name": "stdout",
     "output_type": "stream",
     "text": [
      "\n",
      "\n",
      "\n",
      "\n",
      "\n",
      "\n",
      "\n",
      "\n",
      "\n",
      "\n",
      "\n",
      "\n",
      "\n"
     ]
    }
   ],
   "source": [
    "start = \"E1\"\n",
    "pairs = [(start, f\"E{i}\") for i in range(1, 15) if start != f\"E{i}\"]\n",
    "\n",
    "rows = []\n",
    "\n",
    "for start, end in pairs:\n",
    "    path, cost, transfering_rails_time, total_time = find_minimum_path(real_distances, straight_distances, start, end)\n",
    "    \n",
    "    rows.append([start, end, path, cost, transfering_rails_time, round(float(total_time / 60), 2), int(total_time)])"
   ]
  },
  {
   "cell_type": "code",
   "execution_count": 14,
   "id": "9babf4a3",
   "metadata": {},
   "outputs": [
    {
     "data": {
      "text/html": [
       "<div>\n",
       "<style scoped>\n",
       "    .dataframe tbody tr th:only-of-type {\n",
       "        vertical-align: middle;\n",
       "    }\n",
       "\n",
       "    .dataframe tbody tr th {\n",
       "        vertical-align: top;\n",
       "    }\n",
       "\n",
       "    .dataframe thead th {\n",
       "        text-align: right;\n",
       "    }\n",
       "</style>\n",
       "<table border=\"1\" class=\"dataframe\">\n",
       "  <thead>\n",
       "    <tr style=\"text-align: right;\">\n",
       "      <th></th>\n",
       "      <th>Start</th>\n",
       "      <th>End</th>\n",
       "      <th>Path</th>\n",
       "      <th>Cost (Km)</th>\n",
       "      <th>Transfering rails time (minutes)</th>\n",
       "      <th>Total time (hours)</th>\n",
       "      <th>Total time (minutes)</th>\n",
       "    </tr>\n",
       "  </thead>\n",
       "  <tbody>\n",
       "    <tr>\n",
       "      <th>0</th>\n",
       "      <td>E1</td>\n",
       "      <td>E2</td>\n",
       "      <td>[E1, E2]</td>\n",
       "      <td>10.0</td>\n",
       "      <td>0</td>\n",
       "      <td>0.33</td>\n",
       "      <td>20</td>\n",
       "    </tr>\n",
       "    <tr>\n",
       "      <th>1</th>\n",
       "      <td>E1</td>\n",
       "      <td>E3</td>\n",
       "      <td>[E1, E2, E3]</td>\n",
       "      <td>18.5</td>\n",
       "      <td>0</td>\n",
       "      <td>0.62</td>\n",
       "      <td>37</td>\n",
       "    </tr>\n",
       "    <tr>\n",
       "      <th>2</th>\n",
       "      <td>E1</td>\n",
       "      <td>E4</td>\n",
       "      <td>[E1, E2, E3, E4]</td>\n",
       "      <td>24.8</td>\n",
       "      <td>0</td>\n",
       "      <td>0.83</td>\n",
       "      <td>49</td>\n",
       "    </tr>\n",
       "    <tr>\n",
       "      <th>3</th>\n",
       "      <td>E1</td>\n",
       "      <td>E5</td>\n",
       "      <td>[E1, E2, E3, E4, E5]</td>\n",
       "      <td>37.8</td>\n",
       "      <td>0</td>\n",
       "      <td>1.26</td>\n",
       "      <td>75</td>\n",
       "    </tr>\n",
       "    <tr>\n",
       "      <th>4</th>\n",
       "      <td>E1</td>\n",
       "      <td>E6</td>\n",
       "      <td>[E1, E2, E3, E4, E5, E6]</td>\n",
       "      <td>40.8</td>\n",
       "      <td>0</td>\n",
       "      <td>1.36</td>\n",
       "      <td>81</td>\n",
       "    </tr>\n",
       "    <tr>\n",
       "      <th>5</th>\n",
       "      <td>E1</td>\n",
       "      <td>E7</td>\n",
       "      <td>[E1, E2, E3, E4, E5, E7]</td>\n",
       "      <td>40.2</td>\n",
       "      <td>4</td>\n",
       "      <td>1.41</td>\n",
       "      <td>84</td>\n",
       "    </tr>\n",
       "    <tr>\n",
       "      <th>6</th>\n",
       "      <td>E1</td>\n",
       "      <td>E8</td>\n",
       "      <td>[E1, E2, E9, E8]</td>\n",
       "      <td>29.6</td>\n",
       "      <td>4</td>\n",
       "      <td>1.05</td>\n",
       "      <td>63</td>\n",
       "    </tr>\n",
       "    <tr>\n",
       "      <th>7</th>\n",
       "      <td>E1</td>\n",
       "      <td>E9</td>\n",
       "      <td>[E1, E2, E9]</td>\n",
       "      <td>20.0</td>\n",
       "      <td>4</td>\n",
       "      <td>0.73</td>\n",
       "      <td>44</td>\n",
       "    </tr>\n",
       "    <tr>\n",
       "      <th>8</th>\n",
       "      <td>E1</td>\n",
       "      <td>E10</td>\n",
       "      <td>[E1, E2, E10]</td>\n",
       "      <td>13.5</td>\n",
       "      <td>4</td>\n",
       "      <td>0.52</td>\n",
       "      <td>31</td>\n",
       "    </tr>\n",
       "    <tr>\n",
       "      <th>9</th>\n",
       "      <td>E1</td>\n",
       "      <td>E11</td>\n",
       "      <td>[E1, E2, E9, E11]</td>\n",
       "      <td>32.2</td>\n",
       "      <td>8</td>\n",
       "      <td>1.21</td>\n",
       "      <td>72</td>\n",
       "    </tr>\n",
       "    <tr>\n",
       "      <th>10</th>\n",
       "      <td>E1</td>\n",
       "      <td>E12</td>\n",
       "      <td>[E1, E2, E9, E8, E12]</td>\n",
       "      <td>36.0</td>\n",
       "      <td>8</td>\n",
       "      <td>1.33</td>\n",
       "      <td>80</td>\n",
       "    </tr>\n",
       "    <tr>\n",
       "      <th>11</th>\n",
       "      <td>E1</td>\n",
       "      <td>E13</td>\n",
       "      <td>[E1, E2, E3, E13]</td>\n",
       "      <td>37.2</td>\n",
       "      <td>4</td>\n",
       "      <td>1.31</td>\n",
       "      <td>78</td>\n",
       "    </tr>\n",
       "    <tr>\n",
       "      <th>12</th>\n",
       "      <td>E1</td>\n",
       "      <td>E14</td>\n",
       "      <td>[E1, E2, E3, E4, E13, E14]</td>\n",
       "      <td>42.7</td>\n",
       "      <td>4</td>\n",
       "      <td>1.49</td>\n",
       "      <td>89</td>\n",
       "    </tr>\n",
       "  </tbody>\n",
       "</table>\n",
       "</div>"
      ],
      "text/plain": [
       "   Start  End                        Path  Cost (Km)  \\\n",
       "0     E1   E2                    [E1, E2]       10.0   \n",
       "1     E1   E3                [E1, E2, E3]       18.5   \n",
       "2     E1   E4            [E1, E2, E3, E4]       24.8   \n",
       "3     E1   E5        [E1, E2, E3, E4, E5]       37.8   \n",
       "4     E1   E6    [E1, E2, E3, E4, E5, E6]       40.8   \n",
       "5     E1   E7    [E1, E2, E3, E4, E5, E7]       40.2   \n",
       "6     E1   E8            [E1, E2, E9, E8]       29.6   \n",
       "7     E1   E9                [E1, E2, E9]       20.0   \n",
       "8     E1  E10               [E1, E2, E10]       13.5   \n",
       "9     E1  E11           [E1, E2, E9, E11]       32.2   \n",
       "10    E1  E12       [E1, E2, E9, E8, E12]       36.0   \n",
       "11    E1  E13           [E1, E2, E3, E13]       37.2   \n",
       "12    E1  E14  [E1, E2, E3, E4, E13, E14]       42.7   \n",
       "\n",
       "    Transfering rails time (minutes)  Total time (hours)  Total time (minutes)  \n",
       "0                                  0                0.33                    20  \n",
       "1                                  0                0.62                    37  \n",
       "2                                  0                0.83                    49  \n",
       "3                                  0                1.26                    75  \n",
       "4                                  0                1.36                    81  \n",
       "5                                  4                1.41                    84  \n",
       "6                                  4                1.05                    63  \n",
       "7                                  4                0.73                    44  \n",
       "8                                  4                0.52                    31  \n",
       "9                                  8                1.21                    72  \n",
       "10                                 8                1.33                    80  \n",
       "11                                 4                1.31                    78  \n",
       "12                                 4                1.49                    89  "
      ]
     },
     "execution_count": 14,
     "metadata": {},
     "output_type": "execute_result"
    }
   ],
   "source": [
    "import pandas as pd\n",
    "df = pd.DataFrame(rows, columns=[\"Start\", \"End\", \"Path\", \"Cost (Km)\", \"Transfering rails time (minutes)\", \"Total time (hours)\", \"Total time (minutes)\"])\n",
    "\n",
    "df"
   ]
  },
  {
   "cell_type": "code",
   "execution_count": null,
   "id": "aa657b99",
   "metadata": {},
   "outputs": [],
   "source": []
  }
 ],
 "metadata": {
  "kernelspec": {
   "display_name": "Python 3 (ipykernel)",
   "language": "python",
   "name": "python3"
  },
  "language_info": {
   "codemirror_mode": {
    "name": "ipython",
    "version": 3
   },
   "file_extension": ".py",
   "mimetype": "text/x-python",
   "name": "python",
   "nbconvert_exporter": "python",
   "pygments_lexer": "ipython3",
   "version": "3.8.10"
  }
 },
 "nbformat": 4,
 "nbformat_minor": 5
}
